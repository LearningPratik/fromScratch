{
 "cells": [
  {
   "cell_type": "code",
   "execution_count": 67,
   "id": "701d78c5-9c09-47fd-8108-5bca4c0a4402",
   "metadata": {},
   "outputs": [],
   "source": [
    "# for log values\n",
    "import math"
   ]
  },
  {
   "cell_type": "code",
   "execution_count": 42,
   "id": "b8f3cd17-859c-4890-a0a2-9ba1e296c56b",
   "metadata": {},
   "outputs": [],
   "source": [
    "stories = [\n",
    "    \"The cat sat on the mat. The cat is fluffy.\",\n",
    "    \"A dog barked at the mailman. The dog loves to play fetch.\",\n",
    "    \"Birds sing in the morning. The cat watches the birds.\"\n",
    "]"
   ]
  },
  {
   "cell_type": "code",
   "execution_count": 45,
   "id": "35924023-6a95-4141-835d-3e8af940f429",
   "metadata": {},
   "outputs": [],
   "source": [
    "def calculate_tf(story):\n",
    "    \"\"\"Counts how many times each word appears in a story.\"\"\"\n",
    "    \n",
    "    word_counts = {}\n",
    "\n",
    "    # lowering the words to so it wont count 'the' and 'The' differently\n",
    "    words = story.lower().replace('.', '').split()\n",
    "\n",
    "    # for each word in sentence\n",
    "    for word in words:\n",
    "\n",
    "        # if that word is present in word_counts\n",
    "        if word in word_counts:\n",
    "\n",
    "            # then keep increasing the count\n",
    "            word_counts[word] += 1\n",
    "        else:\n",
    "            word_counts[word] = 1\n",
    "\n",
    "    return word_counts"
   ]
  },
  {
   "cell_type": "code",
   "execution_count": 46,
   "id": "9dfbf1a3-35c9-4ee6-9d41-83b953f67cc2",
   "metadata": {},
   "outputs": [
    {
     "data": {
      "text/plain": [
       "{'the': 3, 'cat': 2, 'sat': 1, 'on': 1, 'mat': 1, 'is': 1, 'fluffy': 1}"
      ]
     },
     "execution_count": 46,
     "metadata": {},
     "output_type": "execute_result"
    }
   ],
   "source": [
    "calculate_tf(stories[0])"
   ]
  },
  {
   "cell_type": "code",
   "execution_count": 105,
   "id": "f42667a1-8d85-4151-8d35-5fb11a669811",
   "metadata": {},
   "outputs": [],
   "source": [
    "def calculate_idf(stories):\n",
    "\n",
    "    \"\"\"Counts how many times a word appears in every story.\"\"\"\n",
    "\n",
    "    # this is total story in our stories list\n",
    "    total_docs = len(stories)\n",
    "\n",
    "    # dictionary for count of words in total\n",
    "    word_document_count = {}\n",
    "\n",
    "    # traversing in stories \n",
    "    for story in stories:\n",
    "\n",
    "        # getting unqiue values so used set()\n",
    "        word_in_story = set(story.lower().replace('.', '').split())\n",
    "\n",
    "        # traversing each story now which is processed (lower(), replace())\n",
    "        for word in word_in_story:\n",
    "\n",
    "            # if the word is in dictionary of count of words, then increment it by 1 or else give it 1\n",
    "            if word in word_document_count:\n",
    "                word_document_count[word] += 1\n",
    "            else:\n",
    "                word_document_count[word] = 1\n",
    "\n",
    "    # dictionary for storing idf scores\n",
    "    idf_scores = {}\n",
    "\n",
    "    # traversing in word counts dictionary, here we have each word's count in all stories\n",
    "    for word, word_count in word_document_count.items():\n",
    "\n",
    "        # updating word's value with below formula \n",
    "        # total words / this word's count\n",
    "        idf_scores[word] = math.log( total_docs / word_count )\n",
    "   \n",
    "    return idf_scores"
   ]
  },
  {
   "cell_type": "code",
   "execution_count": 106,
   "id": "57ef638f-3015-4b8b-9ca2-2fb44e4d1b7b",
   "metadata": {},
   "outputs": [
    {
     "data": {
      "text/plain": [
       "{'the': 0.0,\n",
       " 'on': 1.0986122886681098,\n",
       " 'fluffy': 1.0986122886681098,\n",
       " 'is': 1.0986122886681098,\n",
       " 'sat': 1.0986122886681098,\n",
       " 'cat': 0.4054651081081644,\n",
       " 'mat': 1.0986122886681098,\n",
       " 'fetch': 1.0986122886681098,\n",
       " 'barked': 1.0986122886681098,\n",
       " 'play': 1.0986122886681098,\n",
       " 'mailman': 1.0986122886681098,\n",
       " 'to': 1.0986122886681098,\n",
       " 'at': 1.0986122886681098,\n",
       " 'dog': 1.0986122886681098,\n",
       " 'a': 1.0986122886681098,\n",
       " 'loves': 1.0986122886681098,\n",
       " 'in': 1.0986122886681098,\n",
       " 'birds': 1.0986122886681098,\n",
       " 'sing': 1.0986122886681098,\n",
       " 'watches': 1.0986122886681098,\n",
       " 'morning': 1.0986122886681098}"
      ]
     },
     "execution_count": 106,
     "metadata": {},
     "output_type": "execute_result"
    }
   ],
   "source": [
    "calculate_idf(stories)"
   ]
  },
  {
   "cell_type": "code",
   "execution_count": 101,
   "id": "724ba60d-acf9-452f-8882-b70775279542",
   "metadata": {},
   "outputs": [],
   "source": [
    "def calculate_tfidf(stories):\n",
    "\n",
    "    # for storing tf (term frequencies / word count)\n",
    "    tf = []\n",
    "\n",
    "    # traverse in stories and append their tf values which we get from calculate_tf()\n",
    "    for story in stories:\n",
    "        tf.append(calculate_tf(story))\n",
    "\n",
    "    # traverse in stories and append their idf values which we get from calculate_idf()\n",
    "    idf_values = calculate_idf(stories)\n",
    "\n",
    "    # list for storing tfidf scores\n",
    "    tf_idf_values = []\n",
    "\n",
    "    # let's go in tf list, where we have tf for each word\n",
    "    for story_tf in tf:\n",
    "\n",
    "        # here we will store tfidf value for each story and append this story's scores in tf_idf_values list\n",
    "        story_tfidf = {}\n",
    "\n",
    "        # going in story_tf.items() which we got from tf\n",
    "        for word, word_count in story_tf.items():\n",
    "\n",
    "            # if word is in idf_values, we get tf value and idf_value for that word and apply formula\n",
    "            if word in idf_values:\n",
    "                story_tfidf[word] = word_count * idf_values[word]\n",
    "            else:\n",
    "                story_tfidf[word] = 0\n",
    "        tf_idf_values.append(story_tfidf)\n",
    "        \n",
    "    return tf_idf_values"
   ]
  },
  {
   "cell_type": "code",
   "execution_count": 102,
   "id": "d6443faa-0364-48af-98cb-4c1a662998aa",
   "metadata": {},
   "outputs": [
    {
     "data": {
      "text/plain": [
       "[{'the': 0.0,\n",
       "  'cat': 0.8109302162163288,\n",
       "  'sat': 1.0986122886681098,\n",
       "  'on': 1.0986122886681098,\n",
       "  'mat': 1.0986122886681098,\n",
       "  'is': 1.0986122886681098,\n",
       "  'fluffy': 1.0986122886681098},\n",
       " {'a': 1.0986122886681098,\n",
       "  'dog': 2.1972245773362196,\n",
       "  'barked': 1.0986122886681098,\n",
       "  'at': 1.0986122886681098,\n",
       "  'the': 0.0,\n",
       "  'mailman': 1.0986122886681098,\n",
       "  'loves': 1.0986122886681098,\n",
       "  'to': 1.0986122886681098,\n",
       "  'play': 1.0986122886681098,\n",
       "  'fetch': 1.0986122886681098},\n",
       " {'birds': 2.1972245773362196,\n",
       "  'sing': 1.0986122886681098,\n",
       "  'in': 1.0986122886681098,\n",
       "  'the': 0.0,\n",
       "  'morning': 1.0986122886681098,\n",
       "  'cat': 0.4054651081081644,\n",
       "  'watches': 1.0986122886681098}]"
      ]
     },
     "execution_count": 102,
     "metadata": {},
     "output_type": "execute_result"
    }
   ],
   "source": [
    "calculate_tfidf(stories)"
   ]
  },
  {
   "cell_type": "code",
   "execution_count": 96,
   "id": "d4754c4a-ffaf-45b4-86d7-c91cc5fa934c",
   "metadata": {},
   "outputs": [
    {
     "data": {
      "text/plain": [
       "<Compressed Sparse Row sparse matrix of dtype 'float64'\n",
       "\twith 23 stored elements and shape (3, 20)>"
      ]
     },
     "execution_count": 96,
     "metadata": {},
     "output_type": "execute_result"
    }
   ],
   "source": [
    "from sklearn.feature_extraction.text import TfidfVectorizer\n",
    "vectorizer = TfidfVectorizer()\n",
    "\n",
    "tfidf_matrix = vectorizer.fit_transform(stories)\n",
    "\n",
    "tfidf_matrix"
   ]
  },
  {
   "cell_type": "code",
   "execution_count": 97,
   "id": "fd6ddadc-f239-4215-8122-0da7a1b700ad",
   "metadata": {},
   "outputs": [
    {
     "data": {
      "text/plain": [
       "array(['at', 'barked', 'birds', 'cat', 'dog', 'fetch', 'fluffy', 'in',\n",
       "       'is', 'loves', 'mailman', 'mat', 'morning', 'on', 'play', 'sat',\n",
       "       'sing', 'the', 'to', 'watches'], dtype=object)"
      ]
     },
     "execution_count": 97,
     "metadata": {},
     "output_type": "execute_result"
    }
   ],
   "source": [
    "# We can also get the list of words (features) that the columns represent\n",
    "feature_names = vectorizer.get_feature_names_out()\n",
    "feature_names"
   ]
  },
  {
   "cell_type": "code",
   "execution_count": null,
   "id": "ccb1d51e-6ad0-4a8e-9d6c-97afd19c255e",
   "metadata": {},
   "outputs": [],
   "source": []
  }
 ],
 "metadata": {
  "kernelspec": {
   "display_name": "Python 3 (ipykernel)",
   "language": "python",
   "name": "python3"
  },
  "language_info": {
   "codemirror_mode": {
    "name": "ipython",
    "version": 3
   },
   "file_extension": ".py",
   "mimetype": "text/x-python",
   "name": "python",
   "nbconvert_exporter": "python",
   "pygments_lexer": "ipython3",
   "version": "3.10.12"
  }
 },
 "nbformat": 4,
 "nbformat_minor": 5
}
